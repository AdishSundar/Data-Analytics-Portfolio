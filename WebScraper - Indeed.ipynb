{
 "cells": [
  {
   "cell_type": "code",
   "execution_count": 23,
   "id": "2d3d7680",
   "metadata": {},
   "outputs": [
    {
     "name": "stdout",
     "output_type": "stream",
     "text": [
      "Getting Page, 0\n",
      "Getting Page, 1\n",
      "Getting Page, 2\n",
      "Getting Page, 3\n",
      "                                               title             company  \\\n",
      "0  Senior .Net Developer (FinTech) - Remote or On...           NationsCX   \n",
      "1                      Software Engineer, Full Stack         Capital One   \n",
      "2   Application Developer - FL and TX Residents Only  Wholesale Cabinets   \n",
      "3                                   Python Developer         Webyops Inc   \n",
      "4  Remote Full Stack Developer - MedDevice - Pyth...        Michael Page   \n",
      "\n",
      "                       salary  \\\n",
      "0  $140,000 - $200,000 a year   \n",
      "1                               \n",
      "2    $50,000 - $90,000 a year   \n",
      "3           $18 - $50 an hour   \n",
      "4  $150,000 - $160,000 a year   \n",
      "\n",
      "                                             summary  \n",
      "0  We also show our gratitude through supplementa...  \n",
      "1  Collaborate with and across Agile teams to des...  \n",
      "2  Perform code reviews for peers and 3rd party d...  \n",
      "3  Python Developer responsibilities include writ...  \n",
      "4  Collaborate with the care management teams to ...  \n"
     ]
    }
   ],
   "source": [
    "import requests\n",
    "from bs4 import BeautifulSoup\n",
    "import pandas as pd\n",
    "\n",
    "def extract(page):\n",
    "    headers = {'User-Agent': 'Mozilla/5.0 (Macintosh; Intel Mac OS X 10_15_7) AppleWebKit/537.36 (KHTML, like Gecko) Chrome/103.0.0.0 Safari/537.36'}\n",
    "    url = f'https://www.indeed.com/jobs?q=python%20developer&l=The%20Colony%2C%20TX&from=searchOnHP&redirected={page}'\n",
    "    r = requests.get(url, headers)\n",
    "    soup = BeautifulSoup(r.content, 'html.parser')\n",
    "    return soup\n",
    "\n",
    "def transform(soup):\n",
    "    divs = soup.find_all('div', class_ = 'slider_container')\n",
    "    for item in divs: \n",
    "        title = item.find('a').text.strip()\n",
    "        company = item.find('span', class_ = 'companyName').text.strip()\n",
    "        try:\n",
    "            salary = item.find('div', class_ = 'metadata salary-snippet-container').text.strip()\n",
    "        except:\n",
    "            salary = ''\n",
    "        summary = item.find('div', class_ = 'job-snippet').text.strip().replace('\\n', \"\")\n",
    "        \n",
    "        job = {'title': title,\n",
    "               'company': company,\n",
    "               'salary': salary,\n",
    "               'summary': summary\n",
    "        }\n",
    "        joblist.append(job)\n",
    "    return\n",
    "        \n",
    "joblist = []       \n",
    "\n",
    "for i in range(0, 4):\n",
    "    print(f'Getting Page, {i}')\n",
    "    c = extract(0)\n",
    "    transform(c)\n",
    "\n",
    "df = pd.DataFrame(joblist)\n",
    "\n",
    "print(df.head())\n",
    "\n",
    "df.to_csv('jobs.csv')"
   ]
  }
 ],
 "metadata": {
  "kernelspec": {
   "display_name": "Python 3 (ipykernel)",
   "language": "python",
   "name": "python3"
  },
  "language_info": {
   "codemirror_mode": {
    "name": "ipython",
    "version": 3
   },
   "file_extension": ".py",
   "mimetype": "text/x-python",
   "name": "python",
   "nbconvert_exporter": "python",
   "pygments_lexer": "ipython3",
   "version": "3.9.12"
  }
 },
 "nbformat": 4,
 "nbformat_minor": 5
}
